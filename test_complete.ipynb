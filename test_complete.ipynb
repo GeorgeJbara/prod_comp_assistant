{
 "cells": [
  {
   "cell_type": "markdown",
   "metadata": {},
   "source": [
    "# Airline Complaint System - Complete Test Suite\n",
    "\n",
    "This notebook demonstrates all features of the enhanced airline complaint system using TrustCall and LangGraph patterns.\n",
    "\n",
    "## Prerequisites\n",
    "- Make sure the API is running: `python main.py`\n",
    "- API should be accessible at http://localhost:8002"
   ]
  },
  {
   "cell_type": "code",
   "execution_count": null,
   "metadata": {},
   "outputs": [],
   "source": [
    "# Import required libraries\n",
    "import requests\n",
    "import json\n",
    "import time\n",
    "from IPython.display import display, HTML, Image\n",
    "import pandas as pd\n",
    "\n",
    "# Configuration\n",
    "API_URL = \"http://localhost:8002\"\n",
    "\n",
    "# Helper function for pretty printing\n",
    "def print_response(response):\n",
    "    \"\"\"Pretty print API response\"\"\"\n",
    "    if response.status_code == 200:\n",
    "        data = response.json()\n",
    "        print(json.dumps(data, indent=2))\n",
    "        return data\n",
    "    else:\n",
    "        print(f\"Error {response.status_code}: {response.text}\")\n",
    "        return None"
   ]
  },
  {
   "cell_type": "markdown",
   "metadata": {},
   "source": [
    "## 1. System Health Check"
   ]
  },
  {
   "cell_type": "code",
   "execution_count": null,
   "metadata": {},
   "outputs": [],
   "source": [
    "# Check if API is running\n",
    "print(\"Checking API health...\\n\")\n",
    "response = requests.get(f\"{API_URL}/api/v2/health\")\n",
    "print_response(response)\n",
    "\n",
    "# Get API info\n",
    "print(\"\\nAPI Information:\")\n",
    "response = requests.get(f\"{API_URL}/\")\n",
    "print_response(response)"
   ]
  },
  {
   "cell_type": "markdown",
   "metadata": {},
   "source": [
    "## 2. Clear Database (Fresh Start)"
   ]
  },
  {
   "cell_type": "code",
   "execution_count": null,
   "metadata": {},
   "outputs": [],
   "source": [
    "# Clear all existing tickets\n",
    "print(\"Clearing database...\")\n",
    "response = requests.delete(f\"{API_URL}/api/v2/tickets/clear\")\n",
    "print_response(response)"
   ]
  },
  {
   "cell_type": "markdown",
   "metadata": {},
   "source": [
    "## 3. Test Scenario 1: Complete Complaint (All Info at Once)"
   ]
  },
  {
   "cell_type": "code",
   "execution_count": null,
   "metadata": {},
   "outputs": [],
   "source": [
    "print(\"SCENARIO 1: Complete complaint with all information\\n\")\n",
    "print(\"=\"*60)\n",
    "\n",
    "complaint = {\n",
    "    \"message\": \"I am Alice Johnson, alice@example.com, phone 555-0123. Yesterday on flight UA456 from NYC to LA, we had a 5 hour delay and then my luggage was lost! This ruined my business trip.\",\n",
    "    \"thread_id\": \"complete_001\"\n",
    "}\n",
    "\n",
    "print(f\"Sending: {complaint['message']}\\n\")\n",
    "response = requests.post(f\"{API_URL}/api/v2/complaint\", json=complaint)\n",
    "data = print_response(response)\n",
    "\n",
    "if data and data.get('ticket_id'):\n",
    "    print(f\"\\n✓ Ticket created successfully: {data['ticket_id']}\")\n",
    "    print(f\"Status: {data['status']}\")"
   ]
  },
  {
   "cell_type": "markdown",
   "metadata": {},
   "source": [
    "## 4. Test Scenario 2: Progressive Complaint Building"
   ]
  },
  {
   "cell_type": "code",
   "execution_count": null,
   "metadata": {},
   "outputs": [],
   "source": [
    "print(\"SCENARIO 2: Progressive complaint building\\n\")\n",
    "print(\"=\"*60)\n",
    "\n",
    "thread_id = \"progressive_001\"\n",
    "messages = [\n",
    "    \"I want to file a complaint about my recent flight\",\n",
    "    \"It was flight BA789 from London to Paris\",\n",
    "    \"We had a 3 hour delay and the service was terrible\",\n",
    "    \"My name is Bob Smith\",\n",
    "    \"My email is bob.smith@example.com\"\n",
    "]\n",
    "\n",
    "for i, msg in enumerate(messages, 1):\n",
    "    print(f\"\\nMessage {i}: '{msg}'\")\n",
    "    response = requests.post(\n",
    "        f\"{API_URL}/api/v2/complaint\",\n",
    "        json={\"message\": msg, \"thread_id\": thread_id}\n",
    "    )\n",
    "    data = response.json()\n",
    "    \n",
    "    if data.get('ticket_id'):\n",
    "        print(f\"✓ Ticket created: {data['ticket_id']}\")\n",
    "        break\n",
    "    else:\n",
    "        print(f\"Status: {data['status']}\")\n",
    "        if data.get('missing_fields'):\n",
    "            print(f\"Missing: {', '.join(data['missing_fields'])}\")"
   ]
  },
  {
   "cell_type": "markdown",
   "metadata": {},
   "source": [
    "## 5. Test Scenario 3: Ticket Updates"
   ]
  },
  {
   "cell_type": "code",
   "execution_count": null,
   "metadata": {},
   "outputs": [],
   "source": [
    "print(\"SCENARIO 3: Updating existing ticket\\n\")\n",
    "print(\"=\"*60)\n",
    "\n",
    "# First create a ticket\n",
    "thread_id = \"update_001\"\n",
    "initial = {\n",
    "    \"message\": \"I'm Carol White, carol@test.com. Lost luggage on flight LH123.\",\n",
    "    \"thread_id\": thread_id\n",
    "}\n",
    "\n",
    "print(\"Creating initial ticket...\")\n",
    "response = requests.post(f\"{API_URL}/api/v2/complaint\", json=initial)\n",
    "data = response.json()\n",
    "ticket_id = data.get('ticket_id')\n",
    "print(f\"Ticket created: {ticket_id}\\n\")\n",
    "\n",
    "# Send updates\n",
    "updates = [\n",
    "    \"My phone number is 555-9999\",\n",
    "    \"The luggage tag number is LH789456\",\n",
    "    \"This is urgent - the luggage contains medication\"\n",
    "]\n",
    "\n",
    "for update in updates:\n",
    "    print(f\"Sending update: '{update}'\")\n",
    "    response = requests.post(\n",
    "        f\"{API_URL}/api/v2/complaint\",\n",
    "        json={\"message\": update, \"thread_id\": thread_id}\n",
    "    )\n",
    "    data = response.json()\n",
    "    print(f\"Status: {data['status']}\\n\")"
   ]
  },
  {
   "cell_type": "markdown",
   "metadata": {},
   "source": [
    "## 6. Test API Call Optimizations"
   ]
  },
  {
   "cell_type": "code",
   "execution_count": null,
   "metadata": {},
   "outputs": [],
   "source": [
    "print(\"TESTING API CALL OPTIMIZATIONS\\n\")\n",
    "print(\"=\"*60)\n",
    "\n",
    "print(\"\\n1. Trivial messages (no LLM call):\")\n",
    "trivial_messages = ['ok', 'thanks', 'yes']\n",
    "for msg in trivial_messages:\n",
    "    response = requests.post(f\"{API_URL}/api/v2/complaint\", json={\"message\": msg})\n",
    "    data = response.json()\n",
    "    print(f\"  '{msg}' -> {data['status']} (NO LLM CALL)\")\n",
    "\n",
    "print(\"\\n2. Duplicate detection:\")\n",
    "thread_id = \"dup_test\"\n",
    "duplicate_msg = \"My flight was delayed\"\n",
    "for i in range(2):\n",
    "    response = requests.post(\n",
    "        f\"{API_URL}/api/v2/complaint\",\n",
    "        json={\"message\": duplicate_msg, \"thread_id\": thread_id}\n",
    "    )\n",
    "    data = response.json()\n",
    "    if i == 0:\n",
    "        print(f\"  First: '{duplicate_msg}' -> {data['status']} (LLM CALLED)\")\n",
    "    else:\n",
    "        print(f\"  Duplicate: '{duplicate_msg}' -> {data['status']} (NO LLM CALL)\")"
   ]
  },
  {
   "cell_type": "markdown",
   "metadata": {},
   "source": [
    "## 7. Fetch and Display All Tickets"
   ]
  },
  {
   "cell_type": "code",
   "execution_count": null,
   "metadata": {},
   "outputs": [],
   "source": [
    "# Get all tickets\n",
    "print(\"Fetching all tickets...\\n\")\n",
    "response = requests.get(f\"{API_URL}/api/v2/tickets\")\n",
    "data = response.json()\n",
    "\n",
    "print(f\"Total tickets: {data['count']}\\n\")\n",
    "\n",
    "if data['tickets']:\n",
    "    # Convert to DataFrame for nice display\n",
    "    df = pd.DataFrame(data['tickets'])\n",
    "    columns_to_show = ['ticket_id', 'passenger_name', 'passenger_email', 'flight_number', \n",
    "                      'category', 'priority', 'status', 'created_at']\n",
    "    df_display = df[columns_to_show].head(10)\n",
    "    display(df_display)\n",
    "else:\n",
    "    print(\"No tickets found\")"
   ]
  },
  {
   "cell_type": "markdown",
   "metadata": {},
   "source": [
    "## 8. Test Get Ticket by ID"
   ]
  },
  {
   "cell_type": "code",
   "execution_count": null,
   "metadata": {},
   "outputs": [],
   "source": [
    "# Get tickets first\n",
    "response = requests.get(f\"{API_URL}/api/v2/tickets\")\n",
    "data = response.json()\n",
    "\n",
    "if data['tickets']:\n",
    "    # Get the first ticket\n",
    "    ticket_id = data['tickets'][0]['ticket_id']\n",
    "    \n",
    "    print(f\"Fetching ticket: {ticket_id}\\n\")\n",
    "    response = requests.get(f\"{API_URL}/api/v2/tickets/{ticket_id}\")\n",
    "    \n",
    "    if response.status_code == 200:\n",
    "        ticket = response.json()['ticket']\n",
    "        print(\"Ticket Details:\")\n",
    "        print(\"=\"*40)\n",
    "        for key, value in ticket.items():\n",
    "            if value:\n",
    "                print(f\"{key:20}: {value}\")\n",
    "    else:\n",
    "        print(f\"Error fetching ticket: {response.status_code}\")\n",
    "else:\n",
    "    print(\"No tickets available to fetch\")"
   ]
  },
  {
   "cell_type": "markdown",
   "metadata": {},
   "source": [
    "## 9. Understanding the original_complaint Field"
   ]
  },
  {
   "cell_type": "code",
   "execution_count": null,
   "metadata": {},
   "outputs": [],
   "source": [
    "print(\"UNDERSTANDING COMPLAINT SUMMARIZATION\\n\")\n",
    "print(\"=\"*60)\n",
    "\n",
    "# Clear database for clean test\n",
    "requests.delete(f\"{API_URL}/api/v2/tickets/clear\")\n",
    "\n",
    "# Test with verbose complaint\n",
    "verbose_complaint = {\n",
    "    \"message\": \"\"\"I am extremely frustrated! My name is David Brown, david@test.com. \n",
    "    So yesterday I was supposed to fly on AA888 from Chicago to Miami for my daughter's wedding. \n",
    "    First, they delayed the flight by 2 hours with no explanation. Then when we finally boarded, \n",
    "    we sat on the tarmac for another hour. To make matters worse, when I finally arrived, \n",
    "    my luggage was nowhere to be found! The staff was unhelpful and rude. \n",
    "    This has been the worst travel experience of my life!\"\"\",\n",
    "    \"thread_id\": \"summary_test\"\n",
    "}\n",
    "\n",
    "print(\"Original message (verbose):\")\n",
    "print(verbose_complaint['message'][:200] + \"...\\n\")\n",
    "\n",
    "response = requests.post(f\"{API_URL}/api/v2/complaint\", json=verbose_complaint)\n",
    "data = response.json()\n",
    "\n",
    "if data.get('ticket_id'):\n",
    "    # Fetch the ticket to see the summarized complaint\n",
    "    ticket_response = requests.get(f\"{API_URL}/api/v2/tickets/{data['ticket_id']}\")\n",
    "    ticket = ticket_response.json()['ticket']\n",
    "    \n",
    "    print(\"LLM-generated summary stored in database:\")\n",
    "    print(\"-\"*40)\n",
    "    print(ticket['original_complaint'])\n",
    "    print(\"-\"*40)\n",
    "    print(\"\\n✓ The LLM intelligently summarized the key issues!\")"
   ]
  },
  {
   "cell_type": "markdown",
   "metadata": {},
   "source": [
    "## 10. View LangGraph Workflow"
   ]
  },
  {
   "cell_type": "code",
   "execution_count": null,
   "metadata": {},
   "outputs": [],
   "source": [
    "# Display link to graph visualization\n",
    "print(\"LangGraph Workflow Visualization\\n\")\n",
    "print(\"=\"*60)\n",
    "print(\"\\nThe LangGraph workflow can be viewed at:\")\n",
    "print(f\"http://localhost:8002/api/v2/graph\")\n",
    "print(\"\\nWorkflow nodes:\")\n",
    "print(\"  1. CLASSIFY - Determine if message is a complaint\")\n",
    "print(\"  2. EXTRACT - Extract passenger information\")\n",
    "print(\"  3. DECIDE_ACTION - Route to appropriate action\")\n",
    "print(\"  4. ANALYZE - Categorize and prioritize complaint\")\n",
    "print(\"  5. EXECUTE_ACTION - Create/update ticket\")\n",
    "print(\"  6. RESPOND - Generate customer response\")\n",
    "\n",
    "# Try to display the graph inline (if running in Jupyter)\n",
    "try:\n",
    "    from IPython.display import IFrame\n",
    "    display(IFrame(src=\"http://localhost:8002/api/v2/graph\", width=1000, height=600))\n",
    "except:\n",
    "    print(\"\\nOpen the URL above in your browser to see the graph visualization\")"
   ]
  },
  {
   "cell_type": "markdown",
   "metadata": {},
   "source": [
    "## 11. Performance Summary"
   ]
  },
  {
   "cell_type": "code",
   "execution_count": null,
   "metadata": {},
   "outputs": [],
   "source": [
    "# Get final statistics\n",
    "response = requests.get(f\"{API_URL}/api/v2/tickets\")\n",
    "data = response.json()\n",
    "\n",
    "print(\"SYSTEM PERFORMANCE SUMMARY\\n\")\n",
    "print(\"=\"*60)\n",
    "print(f\"\\nTotal tickets created: {data['count']}\")\n",
    "\n",
    "if data['tickets']:\n",
    "    df = pd.DataFrame(data['tickets'])\n",
    "    \n",
    "    # Category distribution\n",
    "    print(\"\\nTickets by Category:\")\n",
    "    if 'category' in df.columns:\n",
    "        print(df['category'].value_counts().to_string())\n",
    "    \n",
    "    # Priority distribution\n",
    "    print(\"\\nTickets by Priority:\")\n",
    "    if 'priority' in df.columns:\n",
    "        print(df['priority'].value_counts().to_string())\n",
    "    \n",
    "    # Status distribution\n",
    "    print(\"\\nTickets by Status:\")\n",
    "    if 'status' in df.columns:\n",
    "        print(df['status'].value_counts().to_string())\n",
    "\n",
    "print(\"\\n\" + \"=\"*60)\n",
    "print(\"KEY ACHIEVEMENTS:\")\n",
    "print(\"  ✓ TrustCall pattern with structured outputs\")\n",
    "print(\"  ✓ Single LLM call per request (optimized)\")\n",
    "print(\"  ✓ Progressive information gathering\")\n",
    "print(\"  ✓ Intelligent complaint summarization\")\n",
    "print(\"  ✓ API call optimizations for trivial messages\")\n",
    "print(\"  ✓ PostgreSQL persistence\")\n",
    "print(\"  ✓ Clean, maintainable codebase\")"
   ]
  },
  {
   "cell_type": "markdown",
   "metadata": {},
   "source": [
    "## 12. Cleanup (Optional)"
   ]
  },
  {
   "cell_type": "code",
   "execution_count": null,
   "metadata": {},
   "outputs": [],
   "source": [
    "# Uncomment to clear all tickets\n",
    "# print(\"Clearing all tickets...\")\n",
    "# response = requests.delete(f\"{API_URL}/api/v2/tickets/clear\")\n",
    "# print_response(response)"
   ]
  }
 ],
 "metadata": {
  "kernelspec": {
   "display_name": "Python 3",
   "language": "python",
   "name": "python3"
  },
  "language_info": {
   "codemirror_mode": {
    "name": "ipython",
    "version": 3
   },
   "file_extension": ".py",
   "mimetype": "text/x-python",
   "name": "python",
   "nbconvert_exporter": "python",
   "pygments_lexer": "ipython3",
   "version": "3.9.0"
  }
 },
 "nbformat": 4,
 "nbformat_minor": 4
}